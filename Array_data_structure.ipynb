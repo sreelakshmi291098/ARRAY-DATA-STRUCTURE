{
  "nbformat": 4,
  "nbformat_minor": 0,
  "metadata": {
    "colab": {
      "name": "Array data structure.ipynb",
      "provenance": []
    },
    "kernelspec": {
      "name": "python3",
      "display_name": "Python 3"
    },
    "language_info": {
      "name": "python"
    }
  },
  "cells": [
    {
      "cell_type": "code",
      "execution_count": null,
      "metadata": {
        "colab": {
          "base_uri": "https://localhost:8080/"
        },
        "id": "xHXaM_DJGCh6",
        "outputId": "9ab24c0e-10f1-4ea2-b80c-fe36771a99d7"
      },
      "outputs": [
        {
          "output_type": "stream",
          "name": "stdout",
          "text": [
            "Before reversal Array is : [1, 2, 3, 4, 5]\n",
            "After reversing Array: [5, 4, 3, 2, 1]\n"
          ]
        }
      ],
      "source": [
        "arr = [1,2,3,4,5]\n",
        "print(\"Before reversal Array is :\",arr)\n",
        "arr.reverse()\n",
        "print(\"After reversing Array:\",arr)"
      ]
    },
    {
      "cell_type": "code",
      "source": [
        "import numpy as a\n",
        "arr = a.array([1, 2, 3, 4, 5, 6])\n",
        "newarr = a.array_split(arr, 2)\n",
        "print(newarr)"
      ],
      "metadata": {
        "colab": {
          "base_uri": "https://localhost:8080/"
        },
        "id": "b6BtzCBgH2iy",
        "outputId": "4472f543-eef8-4f3e-b4ee-3fdf9d5db47e"
      },
      "execution_count": null,
      "outputs": [
        {
          "output_type": "stream",
          "name": "stdout",
          "text": [
            "[array([1, 2, 3]), array([4, 5, 6])]\n"
          ]
        }
      ]
    },
    {
      "cell_type": "code",
      "source": [
        "import numpy as a\n",
        "arr = a.array([10, 20, 40, 60, 80, 100])\n",
        "total = arr.sum()\n",
        "avg = a.average(arr)\n",
        "print(\"The Sum Of Array Elements = \", total)\n",
        "print(\"nThe Average Of Array Elements = \", avg)"
      ],
      "metadata": {
        "colab": {
          "base_uri": "https://localhost:8080/"
        },
        "id": "EyW54GgmJZAi",
        "outputId": "b4e39656-b852-4369-cac3-da32bb343451"
      },
      "execution_count": null,
      "outputs": [
        {
          "output_type": "stream",
          "name": "stdout",
          "text": [
            "The Sum Of Array Elements =  310\n",
            "nThe Average Of Array Elements =  51.666666666666664\n"
          ]
        }
      ]
    },
    {
      "cell_type": "code",
      "source": [
        "a = [10, 20, 4, 45, 99]\n",
        "mx=max(a[0],a[1])\n",
        "secondmax=min(a[0],a[1])\n",
        "n =len(a)\n",
        "for i in range(2,n):\n",
        "    if a[i]>mx:\n",
        "        secondmax=mx\n",
        "        mx=a[i]\n",
        "    elif a[i]>secondmax and mx != a[i]:\n",
        "        secondmax=a[i]\n",
        "print(\"Second highest number is : \",str(secondmax))"
      ],
      "metadata": {
        "colab": {
          "base_uri": "https://localhost:8080/"
        },
        "id": "yfkWCmBLKWFd",
        "outputId": "514a81f4-6659-44b9-9386-e232235e47ea"
      },
      "execution_count": null,
      "outputs": [
        {
          "output_type": "stream",
          "name": "stdout",
          "text": [
            "Second highest number is :  45\n"
          ]
        }
      ]
    },
    {
      "cell_type": "code",
      "source": [
        "arr = [10, 89, 9, 56, 4, 80, 8]\n",
        "mini = arr[0]\n",
        "for i in range(len(arr)):\n",
        "  if arr[i] < mini:\n",
        "     mini = arr[i]\n",
        "print (mini)"
      ],
      "metadata": {
        "colab": {
          "base_uri": "https://localhost:8080/"
        },
        "id": "KFiF5zMJLgeC",
        "outputId": "33b148a8-233d-46ce-9522-9bcb48c331dd"
      },
      "execution_count": null,
      "outputs": [
        {
          "output_type": "stream",
          "name": "stdout",
          "text": [
            "4\n"
          ]
        }
      ]
    },
    {
      "cell_type": "code",
      "source": [
        "arr = [10, 89, 9, 56, 4, 80, 8]\n",
        "max = arr[0]\n",
        "\n",
        "for i in range(len(arr)):\n",
        "  if arr[i] > max:\n",
        "     max = arr[i]\n",
        "\n",
        "print (max)"
      ],
      "metadata": {
        "colab": {
          "base_uri": "https://localhost:8080/"
        },
        "id": "rMVqU_IJLus_",
        "outputId": "5cc1b61f-f5bd-4bf1-bab1-6c09195f89f8"
      },
      "execution_count": null,
      "outputs": [
        {
          "output_type": "stream",
          "name": "stdout",
          "text": [
            "89\n"
          ]
        }
      ]
    },
    {
      "cell_type": "code",
      "source": [
        "arr = [1, 2, 3, 4, 5]     \n",
        "print(\"Number of elements present in given array: \" + str(len(arr)))"
      ],
      "metadata": {
        "colab": {
          "base_uri": "https://localhost:8080/"
        },
        "id": "lAaMxTRvMRVX",
        "outputId": "5425c422-99a7-4050-ef08-16024314834b"
      },
      "execution_count": null,
      "outputs": [
        {
          "output_type": "stream",
          "name": "stdout",
          "text": [
            "Number of elements present in given array: 5\n"
          ]
        }
      ]
    },
    {
      "cell_type": "code",
      "source": [
        "arr = [1, 2, 3, 4, 5];     \n",
        "print(\"Elements of given array present on odd position: \");    \n",
        "for i in range(0, len(arr), 2):    \n",
        "    print(arr[i]);\n",
        "print(\"Elements of given array present on even position: \");    \n",
        "for i in range(1, len(arr), 2):    \n",
        "    print(arr[i]);        "
      ],
      "metadata": {
        "colab": {
          "base_uri": "https://localhost:8080/"
        },
        "id": "O1CwuZk0M5Rs",
        "outputId": "c4b6a008-6390-43a2-b322-da4296e19b0a"
      },
      "execution_count": null,
      "outputs": [
        {
          "output_type": "stream",
          "name": "stdout",
          "text": [
            "Elements of given array present on odd position: \n",
            "1\n",
            "3\n",
            "5\n",
            "Elements of given array present on even position: \n",
            "2\n",
            "4\n"
          ]
        }
      ]
    },
    {
      "cell_type": "code",
      "source": [
        "array = [10, 20, 30, 40, 50, 60]\n",
        "array.remove(40)\n",
        "print(array)\n"
      ],
      "metadata": {
        "colab": {
          "base_uri": "https://localhost:8080/"
        },
        "id": "tZkfAldTNZ2e",
        "outputId": "99f4955a-ff66-483b-e3d2-150f891fc592"
      },
      "execution_count": null,
      "outputs": [
        {
          "output_type": "stream",
          "name": "stdout",
          "text": [
            "[10, 20, 30, 50, 60]\n"
          ]
        }
      ]
    },
    {
      "cell_type": "code",
      "source": [
        "List = [1, 2, 3, 4, 5, 6, 7, 8, 9]\n",
        "print(\"\\nOriginal List:\\n\", List)\n",
        "print(\"\\nSliced Lists: \")\n",
        "print(List[3:9:2])\n",
        "print(List[::2])"
      ],
      "metadata": {
        "colab": {
          "base_uri": "https://localhost:8080/"
        },
        "id": "7CWjOwTgOaYX",
        "outputId": "899c5542-ac7c-4fd0-d2a0-2038913c29a3"
      },
      "execution_count": null,
      "outputs": [
        {
          "output_type": "stream",
          "name": "stdout",
          "text": [
            "\n",
            "Original List:\n",
            " [1, 2, 3, 4, 5, 6, 7, 8, 9]\n",
            "\n",
            "Sliced Lists: \n",
            "[4, 6, 8]\n",
            "[1, 3, 5, 7, 9]\n"
          ]
        }
      ]
    },
    {
      "cell_type": "code",
      "source": [
        "import numpy as a\n",
        "arr = a.array([2,4,6])\n",
        "numpy_arr = a.array(arr)\n",
        "print(\"Array =\")\n",
        "print(numpy_arr)\n",
        "numpy_list = numpy_arr.tolist()\n",
        "print(\"List = \",numpy_list)"
      ],
      "metadata": {
        "colab": {
          "base_uri": "https://localhost:8080/"
        },
        "id": "R0GLXW6QOzk4",
        "outputId": "eaf82233-c17a-4847-d770-1765d62f10cf"
      },
      "execution_count": null,
      "outputs": [
        {
          "output_type": "stream",
          "name": "stdout",
          "text": [
            "Array =\n",
            "[2 4 6]\n",
            "List =  [2, 4, 6]\n"
          ]
        }
      ]
    },
    {
      "cell_type": "code",
      "source": [
        "from array import array\n",
        "num_array = array('i', [10,20,30,40,50])\n",
        "print(\"Length of the array is:\")\n",
        "print(len(num_array))"
      ],
      "metadata": {
        "colab": {
          "base_uri": "https://localhost:8080/"
        },
        "id": "HeOM_PnpPpHc",
        "outputId": "74d271c7-df28-45a2-d1a0-030adb6becec"
      },
      "execution_count": null,
      "outputs": [
        {
          "output_type": "stream",
          "name": "stdout",
          "text": [
            "Length of the array is:\n",
            "5\n"
          ]
        }
      ]
    },
    {
      "cell_type": "code",
      "source": [
        "arr = [1,2,3,4,5]\n",
        "print(\"Before reversal Array is :\",arr)\n",
        "arr.reverse()\n",
        "print(\"After reversing Array:\",arr)"
      ],
      "metadata": {
        "colab": {
          "base_uri": "https://localhost:8080/"
        },
        "id": "N0f1sNwHQNs-",
        "outputId": "7d1b7721-cd76-44c9-e7fd-30e0b76f2b8e"
      },
      "execution_count": null,
      "outputs": [
        {
          "output_type": "stream",
          "name": "stdout",
          "text": [
            "Before reversal Array is : [1, 2, 3, 4, 5]\n",
            "After reversing Array: [5, 4, 3, 2, 1]\n"
          ]
        }
      ]
    },
    {
      "cell_type": "code",
      "source": [
        "array_num = array(\"i\", [1, 3, 5, 7, 9])\n",
        "print(\"Original array: \"+str(array_num))\n",
        "print(\"Append 11 at the end of the array:\")\n",
        "array_num.append(11)\n",
        "print(\"New array: \"+str(array_num))"
      ],
      "metadata": {
        "colab": {
          "base_uri": "https://localhost:8080/"
        },
        "id": "TgCY96_8QzSx",
        "outputId": "bbc313b0-866c-416b-a78c-84692d607fa7"
      },
      "execution_count": null,
      "outputs": [
        {
          "output_type": "stream",
          "name": "stdout",
          "text": [
            "Original array: array('i', [1, 3, 5, 7, 9])\n",
            "Append 11 at the end of the array:\n",
            "New array: array('i', [1, 3, 5, 7, 9, 11])\n"
          ]
        }
      ]
    },
    {
      "cell_type": "code",
      "source": [
        "array_num = array('i', [1,3,5,7,9])\n",
        "for i in array_num:\n",
        "    print(i)\n",
        "print(\"Access first three items individually\")\n",
        "print(array_num[0])\n",
        "print(array_num[1])\n",
        "print(array_num[2])"
      ],
      "metadata": {
        "colab": {
          "base_uri": "https://localhost:8080/"
        },
        "id": "DrKwsCW8Rv4Q",
        "outputId": "b3e1b35b-ce5d-451e-e52e-07385866b9f6"
      },
      "execution_count": null,
      "outputs": [
        {
          "output_type": "stream",
          "name": "stdout",
          "text": [
            "1\n",
            "3\n",
            "5\n",
            "7\n",
            "9\n",
            "Access first three items individually\n",
            "1\n",
            "3\n",
            "5\n"
          ]
        }
      ]
    }
  ]
}